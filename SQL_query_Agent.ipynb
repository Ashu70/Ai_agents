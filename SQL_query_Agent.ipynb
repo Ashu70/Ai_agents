{
  "cells": [
    {
      "cell_type": "markdown",
      "metadata": {
        "id": "view-in-github",
        "colab_type": "text"
      },
      "source": [
        "<a href=\"https://colab.research.google.com/github/Ashu70/Ai_agents/blob/main/SQL_query_Agent.ipynb\" target=\"_parent\"><img src=\"https://colab.research.google.com/assets/colab-badge.svg\" alt=\"Open In Colab\"/></a>"
      ]
    },
    {
      "cell_type": "markdown",
      "source": [
        "# SQL Query Agent"
      ],
      "metadata": {
        "id": "upJK2gIUooFX"
      }
    },
    {
      "cell_type": "markdown",
      "source": [
        "### Loading LLM"
      ],
      "metadata": {
        "id": "zGe8I-MOo5S8"
      }
    },
    {
      "cell_type": "code",
      "source": [
        "!pip install -qU langchain-google-genai\n",
        "!pip install -qU langchain_community\n",
        "!pip install -qU langgraph"
      ],
      "metadata": {
        "id": "lA3XV5RYqiW4"
      },
      "execution_count": 250,
      "outputs": []
    },
    {
      "cell_type": "code",
      "source": [
        "import getpass\n",
        "import os\n",
        "\n",
        "if \"GOOGLE_API_KEY\" not in os.environ:\n",
        "    os.environ[\"GOOGLE_API_KEY\"] = getpass.getpass(\"Enter Your API key : \")"
      ],
      "metadata": {
        "id": "EODrDVwHo4VF"
      },
      "execution_count": 252,
      "outputs": []
    },
    {
      "cell_type": "markdown",
      "source": [
        "##### Note - We are not using LangSmith API key here but if you want you can uncomment the below block"
      ],
      "metadata": {
        "id": "EIp81IMNrJIS"
      }
    },
    {
      "cell_type": "code",
      "source": [
        "# os.environ[\"LANGSMITH_API_KEY\"] = getpass.getpass(\"Enter your LangSmith API key: \")\n",
        "# os.environ[\"LANGSMITH_TRACING\"] = \"true\""
      ],
      "metadata": {
        "id": "yHuN3ZKxrAYZ"
      },
      "execution_count": 253,
      "outputs": []
    },
    {
      "cell_type": "markdown",
      "source": [
        "#### Now we are initiating our model object"
      ],
      "metadata": {
        "id": "w7muYENcre69"
      }
    },
    {
      "cell_type": "code",
      "source": [
        "from langchain_google_genai import ChatGoogleGenerativeAI\n",
        "\n",
        "#Since our goal is to generate SQL quries keeping temprature 0 makes more sense.\n",
        "\n",
        "llm = ChatGoogleGenerativeAI(\n",
        "    model=\"gemini-2.0-flash-001\",\n",
        "    temperature=0,\n",
        "    max_tokens=None,\n",
        "    timeout=None,\n",
        "    max_retries=2,\n",
        "    # other params...\n",
        ")"
      ],
      "metadata": {
        "id": "TEM3eqvlrVEA"
      },
      "execution_count": 254,
      "outputs": []
    },
    {
      "cell_type": "markdown",
      "source": [
        "#### Testing my API connection"
      ],
      "metadata": {
        "id": "XpWIBm9Gs1wl"
      }
    },
    {
      "cell_type": "markdown",
      "source": [
        "##### uncomment this if you want to test your API connection"
      ],
      "metadata": {
        "id": "s8DpgyARiEtA"
      }
    },
    {
      "cell_type": "code",
      "source": [
        "# messages = [\n",
        "#     (\"system\", \"You are a helpful assistant that translates English to Hindi. Translate the user sentence.\"),\n",
        "#     (\"human\", \"I like building AI applications.\"),\n",
        "# ]\n",
        "\n",
        "# try:\n",
        "#     ai_msg = llm.invoke(messages)\n",
        "#     print(ai_msg.content) # access the string content of the message.\n",
        "# except Exception as e:\n",
        "#     print(f\"Error: {e}\")"
      ],
      "metadata": {
        "id": "tvNt2I8bsBZh"
      },
      "execution_count": 255,
      "outputs": []
    },
    {
      "cell_type": "markdown",
      "source": [
        "#### The above indicates our API connection is successful"
      ],
      "metadata": {
        "id": "ErFvf9CLtBhc"
      }
    },
    {
      "cell_type": "markdown",
      "source": [
        "### Connecting to a SQL Data base"
      ],
      "metadata": {
        "id": "-kCT9QNTtT6D"
      }
    },
    {
      "cell_type": "code",
      "source": [
        "import requests\n",
        "\n",
        "url = \"https://github.com/Ashu70/Ai_agents/raw/refs/heads/main/Chinook.db\"\n",
        "\n",
        "response = requests.get(url)\n",
        "if response.status_code == 200:\n",
        "    with open(\"Chinook.db\", \"wb\") as file:\n",
        "        file.write(response.content)\n",
        "    print(\"File downloaded successfully.\")\n",
        "else:\n",
        "    print(\"Failed to download the file.\")"
      ],
      "metadata": {
        "id": "ZETxJ50BtN7i",
        "outputId": "305d67d7-e577-4ac5-ff47-e15cddfb8994",
        "colab": {
          "base_uri": "https://localhost:8080/"
        }
      },
      "execution_count": 256,
      "outputs": [
        {
          "output_type": "stream",
          "name": "stdout",
          "text": [
            "File downloaded successfully.\n"
          ]
        }
      ]
    },
    {
      "cell_type": "code",
      "source": [
        "#To know about the data visit this link\n",
        "#https://docs.yugabyte.com/preview/sample-data/chinook/"
      ],
      "metadata": {
        "id": "P-dT8LGF1MoT"
      },
      "execution_count": 257,
      "outputs": []
    },
    {
      "cell_type": "code",
      "source": [
        "# #One other way to connect to DB without langchain\n",
        "\n",
        "# !pip install -qU sqlalchemy\n",
        "# from sqlalchemy import create_engine\n",
        "\n",
        "# # Connect to the SQLite database\n",
        "# engine = create_engine(\"sqlite:///Chinook.db\")\n",
        "# connection = engine.connect()\n",
        "\n",
        "# # Now you can execute SQL queries\n",
        "# # Example:\n",
        "# # result = connection.execute(\"SELECT * FROM Customers LIMIT 5;\")\n",
        "# # for row in result:\n",
        "# #     print(row)\n",
        "\n",
        "# # Close the connection when finished\n",
        "# connection.close()\n"
      ],
      "metadata": {
        "id": "jykPhjmi3W3b"
      },
      "execution_count": 258,
      "outputs": []
    },
    {
      "cell_type": "code",
      "source": [
        "from langchain_community.utilities import SQLDatabase\n",
        "\n",
        "db = SQLDatabase.from_uri(\"sqlite:///Chinook.db\")"
      ],
      "metadata": {
        "id": "TglAYXWf3Zsg"
      },
      "execution_count": 259,
      "outputs": []
    },
    {
      "cell_type": "code",
      "source": [
        "db.dialect"
      ],
      "metadata": {
        "id": "Y1AdtDRp4A9M",
        "outputId": "41f433ef-7cb3-4a2f-ab76-c9ce8a608526",
        "colab": {
          "base_uri": "https://localhost:8080/",
          "height": 35
        }
      },
      "execution_count": 260,
      "outputs": [
        {
          "output_type": "execute_result",
          "data": {
            "text/plain": [
              "'sqlite'"
            ],
            "application/vnd.google.colaboratory.intrinsic+json": {
              "type": "string"
            }
          },
          "metadata": {},
          "execution_count": 260
        }
      ]
    },
    {
      "cell_type": "code",
      "source": [
        "db.get_usable_table_names()"
      ],
      "metadata": {
        "id": "xsAg08Dm4nag",
        "outputId": "cf6811ae-909a-4c36-e5b7-de812f38f97b",
        "colab": {
          "base_uri": "https://localhost:8080/"
        }
      },
      "execution_count": 261,
      "outputs": [
        {
          "output_type": "execute_result",
          "data": {
            "text/plain": [
              "['Album',\n",
              " 'Artist',\n",
              " 'Customer',\n",
              " 'Employee',\n",
              " 'Genre',\n",
              " 'Invoice',\n",
              " 'InvoiceLine',\n",
              " 'MediaType',\n",
              " 'Playlist',\n",
              " 'PlaylistTrack',\n",
              " 'Track']"
            ]
          },
          "metadata": {},
          "execution_count": 261
        }
      ]
    },
    {
      "cell_type": "code",
      "source": [
        "db.run(\"SELECT * FROM Employee LIMIT 5\")"
      ],
      "metadata": {
        "id": "Yt8yCyKt4sUm",
        "outputId": "7ab7b235-349f-41a6-a7b3-8885cd11b390",
        "colab": {
          "base_uri": "https://localhost:8080/",
          "height": 178
        }
      },
      "execution_count": 262,
      "outputs": [
        {
          "output_type": "execute_result",
          "data": {
            "text/plain": [
              "\"[(1, 'Adams', 'Andrew', 'General Manager', None, '1962-02-18 00:00:00', '2002-08-14 00:00:00', '11120 Jasper Ave NW', 'Edmonton', 'AB', 'Canada', 'T5K 2N1', '+1 (780) 428-9482', '+1 (780) 428-3457', 'andrew@chinookcorp.com'), (2, 'Edwards', 'Nancy', 'Sales Manager', 1, '1958-12-08 00:00:00', '2002-05-01 00:00:00', '825 8 Ave SW', 'Calgary', 'AB', 'Canada', 'T2P 2T3', '+1 (403) 262-3443', '+1 (403) 262-3322', 'nancy@chinookcorp.com'), (3, 'Peacock', 'Jane', 'Sales Support Agent', 2, '1973-08-29 00:00:00', '2002-04-01 00:00:00', '1111 6 Ave SW', 'Calgary', 'AB', 'Canada', 'T2P 5M5', '+1 (403) 262-3443', '+1 (403) 262-6712', 'jane@chinookcorp.com'), (4, 'Park', 'Margaret', 'Sales Support Agent', 2, '1947-09-19 00:00:00', '2003-05-03 00:00:00', '683 10 Street SW', 'Calgary', 'AB', 'Canada', 'T2P 5G3', '+1 (403) 263-4423', '+1 (403) 263-4289', 'margaret@chinookcorp.com'), (5, 'Johnson', 'Steve', 'Sales Support Agent', 2, '1965-03-03 00:00:00', '2003-10-17 00:00:00', '7727B 41 Ave', 'Calgary', 'AB', 'Canada', 'T3B 1Y7', '1 (780) 836-9987', '1 (780) 836-9543', 'steve@chinookcorp.com')]\""
            ],
            "application/vnd.google.colaboratory.intrinsic+json": {
              "type": "string"
            }
          },
          "metadata": {},
          "execution_count": 262
        }
      ]
    },
    {
      "cell_type": "markdown",
      "source": [
        "### Creating Application State"
      ],
      "metadata": {
        "id": "3NFytb0xtcAT"
      }
    },
    {
      "cell_type": "code",
      "source": [
        "from typing import TypedDict, Annotated"
      ],
      "metadata": {
        "id": "6_HKZfIw5aZi"
      },
      "execution_count": 263,
      "outputs": []
    },
    {
      "cell_type": "code",
      "source": [
        "class State(TypedDict):\n",
        "    question: str\n",
        "    query: str\n",
        "    result: str\n",
        "    answer: str"
      ],
      "metadata": {
        "id": "ZOYPjM-mtt95"
      },
      "execution_count": 264,
      "outputs": []
    },
    {
      "cell_type": "markdown",
      "source": [
        "### Importing Query prompt from langchain hub"
      ],
      "metadata": {
        "id": "7Iat627xATEk"
      }
    },
    {
      "cell_type": "code",
      "source": [
        "from langchain import hub\n",
        "\n",
        "query_prompt_template = hub.pull(\"langchain-ai/sql-query-system-prompt\")"
      ],
      "metadata": {
        "colab": {
          "base_uri": "https://localhost:8080/"
        },
        "id": "haMRQD3qz_kw",
        "outputId": "8f8a9df2-54c1-4d69-c8ea-b8833fa661f8"
      },
      "execution_count": 265,
      "outputs": [
        {
          "output_type": "stream",
          "name": "stderr",
          "text": [
            "/usr/local/lib/python3.11/dist-packages/langsmith/client.py:280: LangSmithMissingAPIKeyWarning: API key must be provided when using hosted LangSmith API\n",
            "  warnings.warn(\n"
          ]
        }
      ]
    },
    {
      "cell_type": "code",
      "source": [
        "query_prompt_template.messages[0].pretty_print()"
      ],
      "metadata": {
        "colab": {
          "base_uri": "https://localhost:8080/"
        },
        "id": "2eGJBZX-0MRp",
        "outputId": "f4d1d2f5-b1c8-4377-b2d1-facf30c170bf"
      },
      "execution_count": 266,
      "outputs": [
        {
          "output_type": "stream",
          "name": "stdout",
          "text": [
            "================================\u001b[1m System Message \u001b[0m================================\n",
            "\n",
            "Given an input question, create a syntactically correct \u001b[33;1m\u001b[1;3m{dialect}\u001b[0m query to run to help find the answer. Unless the user specifies in his question a specific number of examples they wish to obtain, always limit your query to at most \u001b[33;1m\u001b[1;3m{top_k}\u001b[0m results. You can order the results by a relevant column to return the most interesting examples in the database.\n",
            "\n",
            "Never query for all the columns from a specific table, only ask for a the few relevant columns given the question.\n",
            "\n",
            "Pay attention to use only the column names that you can see in the schema description. Be careful to not query for columns that do not exist. Also, pay attention to which column is in which table.\n",
            "\n",
            "Only use the following tables:\n",
            "\u001b[33;1m\u001b[1;3m{table_info}\u001b[0m\n"
          ]
        }
      ]
    },
    {
      "cell_type": "code",
      "source": [
        "from typing import Annotated\n",
        "\n",
        "class QueryOutput(TypedDict):\n",
        "    \"\"\"Genrated SQL query\"\"\"\n",
        "\n",
        "    query: Annotated[str, ..., \"Syntactically correct and valid SQL query\"]\n",
        "\n",
        "QueryOutput({\"query\": \"SELECT * FROM Employee Limit 2\"})\n",
        "QueryOutput.__annotations__"
      ],
      "metadata": {
        "colab": {
          "base_uri": "https://localhost:8080/"
        },
        "id": "GqT2rdkv0gG6",
        "outputId": "46f48edb-ea47-49c4-e5e8-ad2b25275e44"
      },
      "execution_count": 267,
      "outputs": [
        {
          "output_type": "execute_result",
          "data": {
            "text/plain": [
              "{'query': typing.Annotated[str, Ellipsis, 'Syntactically correct and valid SQL query']}"
            ]
          },
          "metadata": {},
          "execution_count": 267
        }
      ]
    },
    {
      "cell_type": "code",
      "source": [
        "query_prompt_template\n",
        "#got idea what input varibables we need"
      ],
      "metadata": {
        "colab": {
          "base_uri": "https://localhost:8080/"
        },
        "id": "27M6W3hYMwPk",
        "outputId": "aee46907-c53f-4aec-8a5e-9b96f047aeb3"
      },
      "execution_count": 268,
      "outputs": [
        {
          "output_type": "execute_result",
          "data": {
            "text/plain": [
              "ChatPromptTemplate(input_variables=['dialect', 'input', 'table_info', 'top_k'], input_types={}, partial_variables={}, metadata={'lc_hub_owner': 'langchain-ai', 'lc_hub_repo': 'sql-query-system-prompt', 'lc_hub_commit_hash': '360a0e9d0f0f5da0ee9810a2a0ea3c9dc3de31b3ae9d50272420c33e48e6e323'}, messages=[SystemMessagePromptTemplate(prompt=PromptTemplate(input_variables=['dialect', 'table_info', 'top_k'], input_types={}, partial_variables={}, template='Given an input question, create a syntactically correct {dialect} query to run to help find the answer. Unless the user specifies in his question a specific number of examples they wish to obtain, always limit your query to at most {top_k} results. You can order the results by a relevant column to return the most interesting examples in the database.\\n\\nNever query for all the columns from a specific table, only ask for a the few relevant columns given the question.\\n\\nPay attention to use only the column names that you can see in the schema description. Be careful to not query for columns that do not exist. Also, pay attention to which column is in which table.\\n\\nOnly use the following tables:\\n{table_info}'), additional_kwargs={}), HumanMessagePromptTemplate(prompt=PromptTemplate(input_variables=['input'], input_types={}, partial_variables={}, template='Question: {input}'), additional_kwargs={})])"
            ]
          },
          "metadata": {},
          "execution_count": 268
        }
      ]
    },
    {
      "cell_type": "markdown",
      "source": [
        "### Creating Query node"
      ],
      "metadata": {
        "id": "BrEBVu5gAlGv"
      }
    },
    {
      "cell_type": "code",
      "source": [
        "def write_query(state:State):\n",
        "  \"\"\" Genereate SQL query to fetch information\"\"\"\n",
        "  # Use .format() to populate the template\n",
        "  prompt = query_prompt_template.invoke({\n",
        "      \"dialect\":db.dialect,\n",
        "      \"table_info\":db.get_table_info(),\n",
        "      \"top_k\":\"*\",\n",
        "      \"input\":state[\"question\"]\n",
        "  })\n",
        "\n",
        "  structured_llm = llm.with_structured_output(QueryOutput)\n",
        "  result = structured_llm.invoke(prompt)\n",
        "\n",
        "  return {\"query\":result[\"query\"]}"
      ],
      "metadata": {
        "id": "60OUZDtDf9VP"
      },
      "execution_count": 269,
      "outputs": []
    },
    {
      "cell_type": "code",
      "source": [
        "#write_query({\"question\": \"How many employess are there?\"})"
      ],
      "metadata": {
        "id": "u4pwfrRee3cd"
      },
      "execution_count": 270,
      "outputs": []
    },
    {
      "cell_type": "markdown",
      "source": [
        "### Creating Result node"
      ],
      "metadata": {
        "id": "R-pyuHq9AwYm"
      }
    },
    {
      "cell_type": "code",
      "source": [
        "from langchain_community.tools.sql_database.tool import QuerySQLDatabaseTool\n",
        "\n",
        "def execute_query(state:State):\n",
        "  \"\"\"Execute SQL query\"\"\"\n",
        "  query = state[\"query\"]\n",
        "  execute_query_tool = QuerySQLDatabaseTool(db=db)\n",
        "\n",
        "  return {'result': execute_query_tool.invoke({\"query\":query})}\n"
      ],
      "metadata": {
        "id": "npthh4zSfEez"
      },
      "execution_count": 271,
      "outputs": []
    },
    {
      "cell_type": "code",
      "source": [
        "execute_query({\"query\": \"SELECT * FROM Employee Limit 2\"})"
      ],
      "metadata": {
        "colab": {
          "base_uri": "https://localhost:8080/"
        },
        "id": "M5TWNtxrAHDv",
        "outputId": "45cf17ed-2e6d-4afe-ec65-34f312a381c2"
      },
      "execution_count": 272,
      "outputs": [
        {
          "output_type": "execute_result",
          "data": {
            "text/plain": [
              "{'result': \"[(1, 'Adams', 'Andrew', 'General Manager', None, '1962-02-18 00:00:00', '2002-08-14 00:00:00', '11120 Jasper Ave NW', 'Edmonton', 'AB', 'Canada', 'T5K 2N1', '+1 (780) 428-9482', '+1 (780) 428-3457', 'andrew@chinookcorp.com'), (2, 'Edwards', 'Nancy', 'Sales Manager', 1, '1958-12-08 00:00:00', '2002-05-01 00:00:00', '825 8 Ave SW', 'Calgary', 'AB', 'Canada', 'T2P 2T3', '+1 (403) 262-3443', '+1 (403) 262-3322', 'nancy@chinookcorp.com')]\"}"
            ]
          },
          "metadata": {},
          "execution_count": 272
        }
      ]
    },
    {
      "cell_type": "markdown",
      "source": [
        "### Create Genrate Answer node"
      ],
      "metadata": {
        "id": "7lqDFf34BImH"
      }
    },
    {
      "cell_type": "code",
      "source": [
        "def genrate_answer(state:State):\n",
        "  \"\"\" Genrate Answer using retrived information \"\"\"\n",
        "  prompt = (\n",
        "      \"From the given user Question, corresponding SQL query and SQL results answer the user question.\\n\"\n",
        "      f'Question: {state[\"question\"]}\\n'\n",
        "      f'SQL Query: {state[\"query\"]}\\n'\n",
        "      f'SQL Results: {state[\"result\"]}\\n'\n",
        "      \"Answer:\"\n",
        "  )\n",
        "  return {\"answer\": llm.invoke(prompt)}"
      ],
      "metadata": {
        "id": "pldbGal7A9l2"
      },
      "execution_count": 273,
      "outputs": []
    },
    {
      "cell_type": "code",
      "source": [
        "#I'm doing it Since mermaid.cli was not working. You don't need to do this\n",
        "\n",
        "!apt-get install -y npm\n",
        "!npm install -g mermaid.cli\n",
        "\n",
        "import tempfile\n",
        "import os\n",
        "from IPython.display import display, Image\n",
        "from langgraph.graph import START, StateGraph # Import necessary modules\n",
        "\n",
        "# Create and compile the StateGraph\n",
        "graph_builder = StateGraph(State)\n",
        "\n",
        "graph_builder.add_node(write_query, \"Write Query\")\n",
        "graph_builder.add_node(execute_query, \"Execute Query\")\n",
        "graph_builder.add_node(genrate_answer, \"Genrate Answer\")\n",
        "\n",
        "graph_builder.add_edge(START, \"write_query\")\n",
        "graph_builder.add_edge(\"write_query\", \"execute_query\")\n",
        "graph_builder.add_edge(\"execute_query\", \"genrate_answer\")\n",
        "\n",
        "graph = graph_builder.compile()\n",
        "\n",
        "#Now Generate Mermaid code\n",
        "mermaid_code = graph.get_graph().draw_mermaid()\n",
        "\n",
        "# Create a temporary file for the PNG\n",
        "with tempfile.NamedTemporaryFile(suffix=\".png\", delete=False) as tmpfile:\n",
        "    png_file_path = tmpfile.name\n",
        "\n",
        "# Render Mermaid code to PNG using the CLI\n",
        "os.system(f\"mmdc -i /dev/stdin -o {png_file_path} -t dark -b transparent <<<'{mermaid_code}'\")\n",
        "\n",
        "# Display the PNG image\n",
        "display(Image(filename=png_file_path))\n",
        "\n",
        "# Optionally, clean up the temporary file\n",
        "os.remove(png_file_path)"
      ],
      "metadata": {
        "colab": {
          "base_uri": "https://localhost:8080/",
          "height": 358
        },
        "id": "Gwk2_RrZgv-U",
        "outputId": "10399874-a953-4409-a79f-ac99ae3bfed1"
      },
      "execution_count": 274,
      "outputs": [
        {
          "output_type": "stream",
          "name": "stdout",
          "text": [
            "Reading package lists... Done\n",
            "Building dependency tree... Done\n",
            "Reading state information... Done\n",
            "npm is already the newest version (8.5.1~ds-1).\n",
            "0 upgraded, 0 newly installed, 0 to remove and 34 not upgraded.\n",
            "\u001b[K\u001b[?25h\u001b[37;40mnpm\u001b[0m \u001b[0m\u001b[30;43mWARN\u001b[0m \u001b[0m\u001b[35mdeprecated\u001b[0m inflight@1.0.6: This module is not supported, and leaks memory. Do not use it. Check out lru-cache if you want a good and tested way to coalesce async requests by a key value, which is much more comprehensive and powerful.\n",
            "\u001b[K\u001b[?25h\u001b[37;40mnpm\u001b[0m \u001b[0m\u001b[30;43mWARN\u001b[0m \u001b[0m\u001b[35mdeprecated\u001b[0m rimraf@2.7.1: Rimraf versions prior to v4 are no longer supported\n",
            "\u001b[K\u001b[?25h\u001b[37;40mnpm\u001b[0m \u001b[0m\u001b[30;43mWARN\u001b[0m \u001b[0m\u001b[35mdeprecated\u001b[0m glob@7.2.3: Glob versions prior to v9 are no longer supported\n",
            "\u001b[K\u001b[?25h\u001b[37;40mnpm\u001b[0m \u001b[0m\u001b[30;43mWARN\u001b[0m \u001b[0m\u001b[35mdeprecated\u001b[0m puppeteer@1.20.0: < 22.8.2 is no longer supported\n",
            "\u001b[K\u001b[?25h\u001b[37;40mnpm\u001b[0m \u001b[0m\u001b[30;43mWARN\u001b[0m \u001b[0m\u001b[35mdeprecated\u001b[0m mermaid.cli@0.5.1: This package is no longer being updated. Please use the @mermaid-js/mermaid-cli package instead.\n",
            "\u001b[K\u001b[?25h\n",
            "changed 53 packages, and audited 54 packages in 21s\n",
            "\n",
            "2 packages are looking for funding\n",
            "  run `npm fund` for details\n",
            "\n",
            "found \u001b[32m\u001b[1m0\u001b[22m\u001b[39m vulnerabilities\n"
          ]
        },
        {
          "output_type": "display_data",
          "data": {
            "image/png": "\n",
            "text/plain": [
              "<IPython.core.display.Image object>"
            ]
          },
          "metadata": {}
        }
      ]
    },
    {
      "cell_type": "code",
      "source": [
        "question = \"How many employess are there?\"\n",
        "query = write_query({\"question\": question})[\"query\"]\n",
        "result = execute_query({\"query\": query})[\"result\"]\n",
        "answer = genrate_answer({\"question\": question, \"query\": query, \"result\": result})[\"answer\"]\n",
        "\n",
        "print(answer.content)"
      ],
      "metadata": {
        "colab": {
          "base_uri": "https://localhost:8080/"
        },
        "id": "gjBMZCDEToX6",
        "outputId": "6f666808-f3b2-438e-a69d-d1a135595c4f"
      },
      "execution_count": 275,
      "outputs": [
        {
          "output_type": "stream",
          "name": "stdout",
          "text": [
            "There are 8 employees.\n"
          ]
        }
      ]
    },
    {
      "source": [
        "state = {\"question\": question, \"query\": query, \"result\": result}\n",
        "state"
      ],
      "cell_type": "code",
      "metadata": {
        "id": "jCQYDvW8bJXy",
        "colab": {
          "base_uri": "https://localhost:8080/"
        },
        "outputId": "96a1967c-587e-45db-9ca5-5e82c72fcc98"
      },
      "execution_count": 276,
      "outputs": [
        {
          "output_type": "execute_result",
          "data": {
            "text/plain": [
              "{'question': 'How many employess are there?',\n",
              " 'query': 'SELECT count(*) FROM Employee',\n",
              " 'result': '[(8,)]'}"
            ]
          },
          "metadata": {},
          "execution_count": 276
        }
      ]
    },
    {
      "cell_type": "code",
      "source": [
        "genrate_answer(state)\n",
        "print(answer.content)"
      ],
      "metadata": {
        "id": "nc5qWqZLabXp",
        "colab": {
          "base_uri": "https://localhost:8080/"
        },
        "outputId": "c66f3188-867d-4597-c2f3-36ce1fefc36f"
      },
      "execution_count": 277,
      "outputs": [
        {
          "output_type": "stream",
          "name": "stdout",
          "text": [
            "There are 8 employees.\n"
          ]
        }
      ]
    },
    {
      "cell_type": "markdown",
      "source": [
        "### Building Graph"
      ],
      "metadata": {
        "id": "zPgFXuKQcssn"
      }
    },
    {
      "cell_type": "code",
      "source": [
        "from langgraph.graph import START, StateGraph\n",
        "from IPython.display import display, Image\n",
        "\n",
        "graph_builder = StateGraph(State)\n",
        "\n",
        "graph_builder.add_node(write_query, \"Write Query\")\n",
        "graph_builder.add_node(execute_query, \"Execute Query\")\n",
        "graph_builder.add_node(genrate_answer, \"Genrate Answer\")\n",
        "\n",
        "graph_builder.add_edge(START, \"write_query\")\n",
        "graph_builder.add_edge(\"write_query\", \"execute_query\")\n",
        "graph_builder.add_edge(\"execute_query\", \"genrate_answer\")\n",
        "\n",
        "graph = graph_builder.compile()"
      ],
      "metadata": {
        "id": "XAzW3-sFbPV3"
      },
      "execution_count": 278,
      "outputs": []
    },
    {
      "cell_type": "code",
      "source": [
        "display(Image(graph.get_graph().draw_mermaid_png()))"
      ],
      "metadata": {
        "id": "SawCivRyeo6i",
        "colab": {
          "base_uri": "https://localhost:8080/",
          "height": 350
        },
        "outputId": "e058c859-55c7-4313-8fc2-ef1672f1eeef"
      },
      "execution_count": 279,
      "outputs": [
        {
          "output_type": "display_data",
          "data": {
            "image/png": "[encoded data removed]",
            "text/plain": [
              "<IPython.core.display.Image object>"
            ]
          },
          "metadata": {}
        }
      ]
    },
    {
      "cell_type": "code",
      "source": [
        "query = {'question': 'List all the ALbums dont limit'}\n",
        "for step in graph.stream(query, stream_mode=\"updates\"):\n",
        "  print(step)"
      ],
      "metadata": {
        "id": "EI1tdd_KffaW",
        "colab": {
          "base_uri": "https://localhost:8080/"
        },
        "outputId": "404c9c31-9a5a-4c5f-979e-00d5febf1c3e"
      },
      "execution_count": 280,
      "outputs": [
        {
          "output_type": "stream",
          "name": "stdout",
          "text": [
            "{'write_query': {'query': 'SELECT Title FROM Album'}}\n",
            "{'execute_query': {'result': '[(\\'For Those About To Rock We Salute You\\',), (\\'Balls to the Wall\\',), (\\'Restless and Wild\\',), (\\'Let There Be Rock\\',), (\\'Big Ones\\',), (\\'Jagged Little Pill\\',), (\\'Facelift\\',), (\\'Warner 25 Anos\\',), (\\'Plays Metallica By Four Cellos\\',), (\\'Audioslave\\',), (\\'Out Of Exile\\',), (\\'BackBeat Soundtrack\\',), (\\'The Best Of Billy Cobham\\',), (\\'Alcohol Fueled Brewtality Live! [Disc 1]\\',), (\\'Alcohol Fueled Brewtality Live! [Disc 2]\\',), (\\'Black Sabbath\\',), (\\'Black Sabbath Vol. 4 (Remaster)\\',), (\\'Body Count\\',), (\\'Chemical Wedding\\',), (\\'The Best Of Buddy Guy - The Millenium Collection\\',), (\\'Prenda Minha\\',), (\\'Sozinho Remix Ao Vivo\\',), (\\'Minha Historia\\',), (\\'Afrociberdelia\\',), (\\'Da Lama Ao Caos\\',), (\\'Acústico MTV [Live]\\',), (\\'Cidade Negra - Hits\\',), (\\'Na Pista\\',), (\\'Axé Bahia 2001\\',), (\\'BBC Sessions [Disc 1] [Live]\\',), (\\'Bongo Fury\\',), (\\'Carnaval 2001\\',), (\\'Chill: Brazil (Disc 1)\\',), (\\'Chill: Brazil (Disc 2)\\',), (\\'Garage Inc. (Disc 1)\\',), (\\'Greatest Hits II\\',), (\\'Greatest Kiss\\',), (\\'Heart of the Night\\',), (\\'International Superhits\\',), (\\'Into The Light\\',), (\\'Meus Momentos\\',), (\\'Minha História\\',), (\\'MK III The Final Concerts [Disc 1]\\',), (\\'Physical Graffiti [Disc 1]\\',), (\\'Sambas De Enredo 2001\\',), (\\'Supernatural\\',), (\\'The Best of Ed Motta\\',), (\\'The Essential Miles Davis [Disc 1]\\',), (\\'The Essential Miles Davis [Disc 2]\\',), (\\'The Final Concerts (Disc 2)\\',), (\"Up An\\' Atom\",), (\\'Vinícius De Moraes - Sem Limite\\',), (\\'Vozes do MPB\\',), (\\'Chronicle, Vol. 1\\',), (\\'Chronicle, Vol. 2\\',), (\\'Cássia Eller - Coleção Sem Limite [Disc 2]\\',), (\\'Cássia Eller - Sem Limite [Disc 1]\\',), (\\'Come Taste The Band\\',), (\\'Deep Purple In Rock\\',), (\\'Fireball\\',), (\"Knocking at Your Back Door: The Best Of Deep Purple in the 80\\'s\",), (\\'Machine Head\\',), (\\'Purpendicular\\',), (\\'Slaves And Masters\\',), (\\'Stormbringer\\',), (\\'The Battle Rages On\\',), (\"Vault: Def Leppard\\'s Greatest Hits\",), (\\'Outbreak\\',), (\\'Djavan Ao Vivo - Vol. 02\\',), (\\'Djavan Ao Vivo - Vol. 1\\',), (\\'Elis Regina-Minha História\\',), (\\'The Cream Of Clapton\\',), (\\'Unplugged\\',), (\\'Album Of The Year\\',), (\\'Angel Dust\\',), (\\'King For A Day Fool For A Lifetime\\',), (\\'The Real Thing\\',), (\\'Deixa Entrar\\',), (\\'In Your Honor [Disc 1]\\',), (\\'In Your Honor [Disc 2]\\',), (\\'One By One\\',), (\\'The Colour And The Shape\\',), (\\'My Way: The Best Of Frank Sinatra [Disc 1]\\',), (\\'Roda De Funk\\',), (\\'As Canções de Eu Tu Eles\\',), (\\'Quanta Gente Veio Ver (Live)\\',), (\\'Quanta Gente Veio ver--Bônus De Carnaval\\',), (\\'Faceless\\',), (\\'American Idiot\\',), (\\'Appetite for Destruction\\',), (\\'Use Your Illusion I\\',), (\\'Use Your Illusion II\\',), (\\'Blue Moods\\',), (\\'A Matter of Life and Death\\',), (\\'A Real Dead One\\',), (\\'A Real Live One\\',), (\\'Brave New World\\',), (\\'Dance Of Death\\',), (\\'Fear Of The Dark\\',), (\\'Iron Maiden\\',), (\\'Killers\\',), (\\'Live After Death\\',), (\\'Live At Donington 1992 (Disc 1)\\',), (\\'Live At Donington 1992 (Disc 2)\\',), (\\'No Prayer For The Dying\\',), (\\'Piece Of Mind\\',), (\\'Powerslave\\',), (\\'Rock In Rio [CD1]\\',), (\\'Rock In Rio [CD2]\\',), (\\'Seventh Son of a Seventh Son\\',), (\\'Somewhere in Time\\',), (\\'The Number of The Beast\\',), (\\'The X Factor\\',), (\\'Virtual XI\\',), (\\'Sex Machine\\',), (\\'Emergency On Planet Earth\\',), (\\'Synkronized\\',), (\\'The Return Of The Space Cowboy\\',), (\\'Get Born\\',), (\\'Are You Experienced?\\',), (\\'Surfing with the Alien (Remastered)\\',), (\\'Jorge Ben Jor 25 Anos\\',), (\\'Jota Quest-1995\\',), (\\'Cafezinho\\',), (\\'Living After Midnight\\',), (\\'Unplugged [Live]\\',), (\\'BBC Sessions [Disc 2] [Live]\\',), (\\'Coda\\',), (\\'Houses Of The Holy\\',), (\\'In Through The Out Door\\',), (\\'IV\\',), (\\'Led Zeppelin I\\',), (\\'Led Zeppelin II\\',), (\\'Led Zeppelin III\\',), (\\'Physical Graffiti [Disc 2]\\',), (\\'Presence\\',), (\\'The Song Remains The Same (Disc 1)\\',), (\\'The Song Remains The Same (Disc 2)\\',), (\\'A TempestadeTempestade Ou O Livro Dos Dias\\',), (\\'Mais Do Mesmo\\',), (\\'Greatest Hits\\',), (\\'Lulu Santos - RCA 100 Anos De Música - Álbum 01\\',), (\\'Lulu Santos - RCA 100 Anos De Música - Álbum 02\\',), (\\'Misplaced Childhood\\',), (\\'Barulhinho Bom\\',), (\\'Seek And Shall Find: More Of The Best (1963-1981)\\',), (\\'The Best Of Men At Work\\',), (\\'Black Album\\',), (\\'Garage Inc. (Disc 2)\\',), (\"Kill \\'Em All\",), (\\'Load\\',), (\\'Master Of Puppets\\',), (\\'ReLoad\\',), (\\'Ride The Lightning\\',), (\\'St. Anger\\',), (\\'...And Justice For All\\',), (\\'Miles Ahead\\',), (\\'Milton Nascimento Ao Vivo\\',), (\\'Minas\\',), (\\'Ace Of Spades\\',), (\\'Demorou...\\',), (\\'Motley Crue Greatest Hits\\',), (\\'From The Muddy Banks Of The Wishkah [Live]\\',), (\\'Nevermind\\',), (\\'Compositores\\',), (\\'Olodum\\',), (\\'Acústico MTV\\',), (\\'Arquivo II\\',), (\\'Arquivo Os Paralamas Do Sucesso\\',), (\\'Bark at the Moon (Remastered)\\',), (\\'Blizzard of Ozz\\',), (\\'Diary of a Madman (Remastered)\\',), (\\'No More Tears (Remastered)\\',), (\\'Tribute\\',), (\\'Walking Into Clarksdale\\',), (\\'Original Soundtracks 1\\',), (\\'The Beast Live\\',), (\\'Live On Two Legs [Live]\\',), (\\'Pearl Jam\\',), (\\'Riot Act\\',), (\\'Ten\\',), (\\'Vs.\\',), (\\'Dark Side Of The Moon\\',), (\\'Os Cães Ladram Mas A Caravana Não Pára\\',), (\\'Greatest Hits I\\',), (\\'News Of The World\\',), (\\'Out Of Time\\',), (\\'Green\\',), (\\'New Adventures In Hi-Fi\\',), (\\'The Best Of R.E.M.: The IRS Years\\',), (\\'Cesta Básica\\',), (\\'Raul Seixas\\',), (\\'Blood Sugar Sex Magik\\',), (\\'By The Way\\',), (\\'Californication\\',), (\\'Retrospective I (1974-1980)\\',), (\\'Santana - As Years Go By\\',), (\\'Santana Live\\',), (\\'Maquinarama\\',), (\\'O Samba Poconé\\',), (\\'Judas 0: B-Sides and Rarities\\',), (\\'Rotten Apples: Greatest Hits\\',), (\\'A-Sides\\',), (\\'Morning Dance\\',), (\\'In Step\\',), (\\'Core\\',), (\\'Mezmerize\\',), (\\'[1997] Black Light Syndrome\\',), (\\'Live [Disc 1]\\',), (\\'Live [Disc 2]\\',), (\\'The Singles\\',), (\\'Beyond Good And Evil\\',), (\\'Pure Cult: The Best Of The Cult (For Rockers, Ravers, Lovers & Sinners) [UK]\\',), (\\'The Doors\\',), (\\'The Police Greatest Hits\\',), (\\'Hot Rocks, 1964-1971 (Disc 1)\\',), (\\'No Security\\',), (\\'Voodoo Lounge\\',), (\\'Tangents\\',), (\\'Transmission\\',), (\\'My Generation - The Very Best Of The Who\\',), (\\'Serie Sem Limite (Disc 1)\\',), (\\'Serie Sem Limite (Disc 2)\\',), (\\'Acústico\\',), (\\'Volume Dois\\',), (\\'Battlestar Galactica: The Story So Far\\',), (\\'Battlestar Galactica, Season 3\\',), (\\'Heroes, Season 1\\',), (\\'Lost, Season 3\\',), (\\'Lost, Season 1\\',), (\\'Lost, Season 2\\',), (\\'Achtung Baby\\',), (\"All That You Can\\'t Leave Behind\",), (\\'B-Sides 1980-1990\\',), (\\'How To Dismantle An Atomic Bomb\\',), (\\'Pop\\',), (\\'Rattle And Hum\\',), (\\'The Best Of 1980-1990\\',), (\\'War\\',), (\\'Zooropa\\',), (\\'UB40 The Best Of - Volume Two [UK]\\',), (\\'Diver Down\\',), (\\'The Best Of Van Halen, Vol. I\\',), (\\'Van Halen\\',), (\\'Van Halen III\\',), (\\'Contraband\\',), (\\'Vinicius De Moraes\\',), (\\'Ao Vivo [IMPORT]\\',), (\\'The Office, Season 1\\',), (\\'The Office, Season 2\\',), (\\'The Office, Season 3\\',), (\\'Un-Led-Ed\\',), (\\'Battlestar Galactica (Classic), Season 1\\',), (\\'Aquaman\\',), (\\'Instant Karma: The Amnesty International Campaign to Save Darfur\\',), (\\'Speak of the Devil\\',), (\\'20th Century Masters - The Millennium Collection: The Best of Scorpions\\',), (\\'House of Pain\\',), (\\'Radio Brasil (O Som da Jovem Vanguarda) - Seleccao de Henrique Amaro\\',), (\\'Cake: B-Sides and Rarities\\',), (\\'LOST, Season 4\\',), (\\'Quiet Songs\\',), (\\'Muso Ko\\',), (\\'Realize\\',), (\\'Every Kind of Light\\',), (\\'Duos II\\',), (\\'Worlds\\',), (\\'The Best of Beethoven\\',), (\\'Temple of the Dog\\',), (\\'Carry On\\',), (\\'Revelations\\',), (\\'Adorate Deum: Gregorian Chant from the Proper of the Mass\\',), (\\'Allegri: Miserere\\',), (\\'Pachelbel: Canon & Gigue\\',), (\\'Vivaldi: The Four Seasons\\',), (\\'Bach: Violin Concertos\\',), (\\'Bach: Goldberg Variations\\',), (\\'Bach: The Cello Suites\\',), (\\'Handel: The Messiah (Highlights)\\',), (\\'The World of Classical Favourites\\',), (\\'Sir Neville Marriner: A Celebration\\',), (\\'Mozart: Wind Concertos\\',), (\\'Haydn: Symphonies 99 - 104\\',), (\\'Beethoven: Symhonies Nos. 5 & 6\\',), (\\'A Soprano Inspired\\',), (\\'Great Opera Choruses\\',), (\\'Wagner: Favourite Overtures\\',), (\\'Fauré: Requiem, Ravel: Pavane & Others\\',), (\\'Tchaikovsky: The Nutcracker\\',), (\\'The Last Night of the Proms\\',), (\\'Puccini: Madama Butterfly - Highlights\\',), (\\'Holst: The Planets, Op. 32 & Vaughan Williams: Fantasies\\',), (\"Pavarotti\\'s Opera Made Easy\",), (\"Great Performances - Barber\\'s Adagio and Other Romantic Favorites for Strings\",), (\\'Carmina Burana\\',), (\\'A Copland Celebration, Vol. I\\',), (\\'Bach: Toccata & Fugue in D Minor\\',), (\\'Prokofiev: Symphony No.1\\',), (\\'Scheherazade\\',), (\\'Bach: The Brandenburg Concertos\\',), (\\'Chopin: Piano Concertos Nos. 1 & 2\\',), (\\'Mascagni: Cavalleria Rusticana\\',), (\\'Sibelius: Finlandia\\',), (\\'Beethoven Piano Sonatas: Moonlight & Pastorale\\',), (\\'Great Recordings of the Century - Mahler: Das Lied von der Erde\\',), (\\'Elgar: Cello Concerto & Vaughan Williams: Fantasias\\',), (\\'Adams, John: The Chairman Dances\\',), (\"Tchaikovsky: 1812 Festival Overture, Op.49, Capriccio Italien & Beethoven: Wellington\\'s Victory\",), (\\'Palestrina: Missa Papae Marcelli & Allegri: Miserere\\',), (\\'Prokofiev: Romeo & Juliet\\',), (\\'Strauss: Waltzes\\',), (\\'Berlioz: Symphonie Fantastique\\',), (\\'Bizet: Carmen Highlights\\',), (\\'English Renaissance\\',), (\\'Handel: Music for the Royal Fireworks (Original Version 1749)\\',), (\\'Grieg: Peer Gynt Suites & Sibelius: Pelléas et Mélisande\\',), (\\'Mozart Gala: Famous Arias\\',), (\\'SCRIABIN: Vers la flamme\\',), (\\'Armada: Music from the Courts of England and Spain\\',), (\\'Mozart: Symphonies Nos. 40 & 41\\',), (\\'Back to Black\\',), (\\'Frank\\',), (\\'Carried to Dust (Bonus Track Version)\\',), (\"Beethoven: Symphony No. 6 \\'Pastoral\\' Etc.\",), (\\'Bartok: Violin & Viola Concertos\\',), (\"Mendelssohn: A Midsummer Night\\'s Dream\",), (\\'Bach: Orchestral Suites Nos. 1 - 4\\',), (\\'Charpentier: Divertissements, Airs & Concerts\\',), (\\'South American Getaway\\',), (\\'Górecki: Symphony No. 3\\',), (\\'Purcell: The Fairy Queen\\',), (\\'The Ultimate Relexation Album\\',), (\\'Purcell: Music for the Queen Mary\\',), (\\'Weill: The Seven Deadly Sins\\',), (\\'J.S. Bach: Chaconne, Suite in E Minor, Partita in E Major & Prelude, Fugue and Allegro\\',), (\\'Prokofiev: Symphony No.5 & Stravinksy: Le Sacre Du Printemps\\',), (\\'Szymanowski: Piano Works, Vol. 1\\',), (\\'Nielsen: The Six Symphonies\\',), (\"Great Recordings of the Century: Paganini\\'s 24 Caprices\",), (\"Liszt - 12 Études D\\'Execution Transcendante\",), (\\'Great Recordings of the Century - Shubert: Schwanengesang, 4 Lieder\\',), (\\'Locatelli: Concertos for Violin, Strings and Continuo, Vol. 3\\',), (\\'Respighi:Pines of Rome\\',), (\"Schubert: The Late String Quartets & String Quintet (3 CD\\'s)\",), (\"Monteverdi: L\\'Orfeo\",), (\\'Mozart: Chamber Music\\',), (\\'Koyaanisqatsi (Soundtrack from the Motion Picture)\\',)]'}}\n",
            "{'genrate_answer': {'answer': AIMessage(content=\"Here's the list of albums from the SQL results:\\n\\n*   For Those About To Rock We Salute You\\n*   Balls to the Wall\\n*   Restless and Wild\\n*   Let There Be Rock\\n*   Big Ones\\n*   Jagged Little Pill\\n*   Facelift\\n*   Warner 25 Anos\\n*   Plays Metallica By Four Cellos\\n*   Audioslave\\n*   Out Of Exile\\n*   BackBeat Soundtrack\\n*   The Best Of Billy Cobham\\n*   Alcohol Fueled Brewtality Live! \\\\[Disc 1]\\n*   Alcohol Fueled Brewtality Live! \\\\[Disc 2]\\n*   Black Sabbath\\n*   Black Sabbath Vol. 4 (Remaster)\\n*   Body Count\\n*   Chemical Wedding\\n*   The Best Of Buddy Guy - The Millenium Collection\\n*   Prenda Minha\\n*   Sozinho Remix Ao Vivo\\n*   Minha Historia\\n*   Afrociberdelia\\n*   Da Lama Ao Caos\\n*   Acústico MTV \\\\[Live]\\n*   Cidade Negra - Hits\\n*   Na Pista\\n*   Axé Bahia 2001\\n*   BBC Sessions \\\\[Disc 1] \\\\[Live]\\n*   Bongo Fury\\n*   Carnaval 2001\\n*   Chill: Brazil (Disc 1)\\n*   Chill: Brazil (Disc 2)\\n*   Garage Inc. (Disc 1)\\n*   Greatest Hits II\\n*   Greatest Kiss\\n*   Heart of the Night\\n*   International Superhits\\n*   Into The Light\\n*   Meus Momentos\\n*   Minha História\\n*   MK III The Final Concerts \\\\[Disc 1]\\n*   Physical Graffiti \\\\[Disc 1]\\n*   Sambas De Enredo 2001\\n*   Supernatural\\n*   The Best of Ed Motta\\n*   The Essential Miles Davis \\\\[Disc 1]\\n*   The Essential Miles Davis \\\\[Disc 2]\\n*   The Final Concerts (Disc 2)\\n*   Up An' Atom\\n*   Vinícius De Moraes - Sem Limite\\n*   Vozes do MPB\\n*   Chronicle, Vol. 1\\n*   Chronicle, Vol. 2\\n*   Cássia Eller - Coleção Sem Limite \\\\[Disc 2]\\n*   Cássia Eller - Sem Limite \\\\[Disc 1]\\n*   Come Taste The Band\\n*   Deep Purple In Rock\\n*   Fireball\\n*   Knocking at Your Back Door: The Best Of Deep Purple in the 80's\\n*   Machine Head\\n*   Purpendicular\\n*   Slaves And Masters\\n*   Stormbringer\\n*   The Battle Rages On\\n*   Vault: Def Leppard's Greatest Hits\\n*   Outbreak\\n*   Djavan Ao Vivo - Vol. 02\\n*   Djavan Ao Vivo - Vol. 1\\n*   Elis Regina-Minha História\\n*   The Cream Of Clapton\\n*   Unplugged\\n*   Album Of The Year\\n*   Angel Dust\\n*   King For A Day Fool For A Lifetime\\n*   The Real Thing\\n*   Deixa Entrar\\n*   In Your Honor \\\\[Disc 1]\\n*   In Your Honor \\\\[Disc 2]\\n*   One By One\\n*   The Colour And The Shape\\n*   My Way: The Best Of Frank Sinatra \\\\[Disc 1]\\n*   Roda De Funk\\n*   As Canções de Eu Tu Eles\\n*   Quanta Gente Veio Ver (Live)\\n*   Quanta Gente Veio ver--Bônus De Carnaval\\n*   Faceless\\n*   American Idiot\\n*   Appetite for Destruction\\n*   Use Your Illusion I\\n*   Use Your Illusion II\\n*   Blue Moods\\n*   A Matter of Life and Death\\n*   A Real Dead One\\n*   A Real Live One\\n*   Brave New World\\n*   Dance Of Death\\n*   Fear Of The Dark\\n*   Iron Maiden\\n*   Killers\\n*   Live After Death\\n*   Live At Donington 1992 (Disc 1)\\n*   Live At Donington 1992 (Disc 2)\\n*   No Prayer For The Dying\\n*   Piece Of Mind\\n*   Powerslave\\n*   Rock In Rio \\\\[CD1]\\n*   Rock In Rio \\\\[CD2]\\n*   Seventh Son of a Seventh Son\\n*   Somewhere in Time\\n*   The Number of The Beast\\n*   The X Factor\\n*   Virtual XI\\n*   Sex Machine\\n*   Emergency On Planet Earth\\n*   Synkronized\\n*   The Return Of The Space Cowboy\\n*   Get Born\\n*   Are You Experienced?\\n*   Surfing with the Alien (Remastered)\\n*   Jorge Ben Jor 25 Anos\\n*   Jota Quest-1995\\n*   Cafezinho\\n*   Living After Midnight\\n*   Unplugged \\\\[Live]\\n*   BBC Sessions \\\\[Disc 2] \\\\[Live]\\n*   Coda\\n*   Houses Of The Holy\\n*   In Through The Out Door\\n*   IV\\n*   Led Zeppelin I\\n*   Led Zeppelin II\\n*   Led Zeppelin III\\n*   Physical Graffiti \\\\[Disc 2]\\n*   Presence\\n*   The Song Remains The Same (Disc 1)\\n*   The Song Remains The Same (Disc 2)\\n*   A TempestadeTempestade Ou O Livro Dos Dias\\n*   Mais Do Mesmo\\n*   Greatest Hits\\n*   Lulu Santos - RCA 100 Anos De Música - Álbum 01\\n*   Lulu Santos - RCA 100 Anos De Música - Álbum 02\\n*   Misplaced Childhood\\n*   Barulhinho Bom\\n*   Seek And Shall Find: More Of The Best (1963-1981)\\n*   The Best Of Men At Work\\n*   Black Album\\n*   Garage Inc. (Disc 2)\\n*   Kill 'Em All\\n*   Load\\n*   Master Of Puppets\\n*   ReLoad\\n*   Ride The Lightning\\n*   St. Anger\\n*   ...And Justice For All\\n*   Miles Ahead\\n*   Milton Nascimento Ao Vivo\\n*   Minas\\n*   Ace Of Spades\\n*   Demorou...\\n*   Motley Crue Greatest Hits\\n*   From The Muddy Banks Of The Wishkah \\\\[Live]\\n*   Nevermind\\n*   Compositores\\n*   Olodum\\n*   Acústico MTV\\n*   Arquivo II\\n*   Arquivo Os Paralamas Do Sucesso\\n*   Bark at the Moon (Remastered)\\n*   Blizzard of Ozz\\n*   Diary of a Madman (Remastered)\\n*   No More Tears (Remastered)\\n*   Tribute\\n*   Walking Into Clarksdale\\n*   Original Soundtracks 1\\n*   The Beast Live\\n*   Live On Two Legs \\\\[Live]\\n*   Pearl Jam\\n*   Riot Act\\n*   Ten\\n*   Vs.\\n*   Dark Side Of The Moon\\n*   Os Cães Ladram Mas A Caravana Não Pára\\n*   Greatest Hits I\\n*   News Of The World\\n*   Out Of Time\\n*   Green\\n*   New Adventures In Hi-Fi\\n*   The Best Of R.E.M.: The IRS Years\\n*   Cesta Básica\\n*   Raul Seixas\\n*   Blood Sugar Sex Magik\\n*   By The Way\\n*   Californication\\n*   Retrospective I (1974-1980)\\n*   Santana - As Years Go By\\n*   Santana Live\\n*   Maquinarama\\n*   O Samba Poconé\\n*   Judas 0: B-Sides and Rarities\\n*   Rotten Apples: Greatest Hits\\n*   A-Sides\\n*   Morning Dance\\n*   In Step\\n*   Core\\n*   Mezmerize\\n*   \\\\[1997] Black Light Syndrome\\n*   Live \\\\[Disc 1]\\n*   Live \\\\[Disc 2]\\n*   The Singles\\n*   Beyond Good And Evil\\n*   Pure Cult: The Best Of The Cult (For Rockers, Ravers, Lovers & Sinners) \\\\[UK]\\n*   The Doors\\n*   The Police Greatest Hits\\n*   Hot Rocks, 1964-1971 (Disc 1)\\n*   No Security\\n*   Voodoo Lounge\\n*   Tangents\\n*   Transmission\\n*   My Generation - The Very Best Of The Who\\n*   Serie Sem Limite (Disc 1)\\n*   Serie Sem Limite (Disc 2)\\n*   Acústico\\n*   Volume Dois\\n*   Battlestar Galactica: The Story So Far\\n*   Battlestar Galactica, Season 3\\n*   Heroes, Season 1\\n*   Lost, Season 3\\n*   Lost, Season 1\\n*   Lost, Season 2\\n*   Achtung Baby\\n*   All That You Can't Leave Behind\\n*   B-Sides 1980-1990\\n*   How To Dismantle An Atomic Bomb\\n*   Pop\\n*   Rattle And Hum\\n*   The Best Of 1980-1990\\n*   War\\n*   Zooropa\\n*   UB40 The Best Of - Volume Two \\\\[UK]\\n*   Diver Down\\n*   The Best Of Van Halen, Vol. I\\n*   Van Halen\\n*   Van Halen III\\n*   Contraband\\n*   Vinicius De Moraes\\n*   Ao Vivo \\\\[IMPORT]\\n*   The Office, Season 1\\n*   The Office, Season 2\\n*   The Office, Season 3\\n*   Un-Led-Ed\\n*   Battlestar Galactica (Classic), Season 1\\n*   Aquaman\\n*   Instant Karma: The Amnesty International Campaign to Save Darfur\\n*   Speak of the Devil\\n*   20th Century Masters - The Millennium Collection: The Best of Scorpions\\n*   House of Pain\\n*   Radio Brasil (O Som da Jovem Vanguarda) - Seleccao de Henrique Amaro\\n*   Cake: B-Sides and Rarities\\n*   LOST, Season 4\\n*   Quiet Songs\\n*   Muso Ko\\n*   Realize\\n*   Every Kind of Light\\n*   Duos II\\n*   Worlds\\n*   The Best of Beethoven\\n*   Temple of the Dog\\n*   Carry On\\n*   Revelations\\n*   Adorate Deum: Gregorian Chant from the Proper of the Mass\\n*   Allegri: Miserere\\n*   Pachelbel: Canon & Gigue\\n*   Vivaldi: The Four Seasons\\n*   Bach: Violin Concertos\\n*   Bach: Goldberg Variations\\n*   Bach: The Cello Suites\\n*   Handel: The Messiah (Highlights)\\n*   The World of Classical Favourites\\n*   Sir Neville Marriner: A Celebration\\n*   Mozart: Wind Concertos\\n*   Haydn: Symphonies 99 - 104\\n*   Beethoven: Symhonies Nos. 5 & 6\\n*   A Soprano Inspired\\n*   Great Opera Choruses\\n*   Wagner: Favourite Overtures\\n*   Fauré: Requiem, Ravel: Pavane & Others\\n*   Tchaikovsky: The Nutcracker\\n*   The Last Night of the Proms\\n*   Puccini: Madama Butterfly - Highlights\\n*   Holst: The Planets, Op. 32 & Vaughan Williams: Fantasies\\n*   Pavarotti's Opera Made Easy\\n*   Great Performances - Barber's Adagio and Other Romantic Favorites for Strings\\n*   Carmina Burana\\n*   A Copland Celebration, Vol. I\\n*   Bach: Toccata & Fugue in D Minor\\n*   Prokofiev: Symphony No.1\\n*   Scheherazade\\n*   Bach: The Brandenburg Concertos\\n*   Chopin: Piano Concertos Nos. 1 & 2\\n*   Mascagni: Cavalleria Rusticana\\n*   Sibelius: Finlandia\\n*   Beethoven Piano Sonatas: Moonlight & Pastorale\\n*   Great Recordings of the Century - Mahler: Das Lied von der Erde\\n*   Elgar: Cello Concerto & Vaughan Williams: Fantasias\\n*   Adams, John: The Chairman Dances\\n*   Tchaikovsky: 1812 Festival Overture, Op.49, Capriccio Italien & Beethoven: Wellington's Victory\\n*   Palestrina: Missa Papae Marcelli & Allegri: Miserere\\n*   Prokofiev: Romeo & Juliet\\n*   Strauss: Waltzes\\n*   Berlioz: Symphonie Fantastique\\n*   Bizet: Carmen Highlights\\n*   English Renaissance\\n*   Handel: Music for the Royal Fireworks (Original Version 1749)\\n*   Grieg: Peer Gynt Suites & Sibelius: Pelléas et Mélisande\\n*   Mozart Gala: Famous Arias\\n*   SCRIABIN: Vers la flamme\\n*   Armada: Music from the Courts of England and Spain\\n*   Mozart: Symphonies Nos. 40 & 41\\n*   Back to Black\\n*   Frank\\n*   Carried to Dust (Bonus Track Version)\\n*   Beethoven: Symphony No. 6 'Pastoral' Etc.\\n*   Bartok: Violin & Viola Concertos\\n*   Mendelssohn: A Midsummer Night's Dream\\n*   Bach: Orchestral Suites Nos. 1 - 4\\n*   Charpentier: Divertissements, Airs & Concerts\\n*   South American Getaway\\n*   Górecki: Symphony No. 3\\n*   Purcell: The Fairy Queen\\n*   The Ultimate Relexation Album\\n*   Purcell: Music for the Queen Mary\\n*   Weill: The Seven Deadly Sins\\n*   J.S. Bach: Chaconne, Suite in E Minor, Partita in E Major & Prelude, Fugue and Allegro\\n*   Prokofiev: Symphony No.5 & Stravinksy: Le Sacre Du Printemps\\n*   Szymanowski: Piano Works, Vol. 1\\n*   Nielsen: The Six Symphonies\\n*   Great Recordings of the Century: Paganini's 24 Caprices\\n*   Liszt - 12 Études D'Execution Transcendante\\n*   Great Recordings of the Century - Shubert: Schwanengesang, 4 Lieder\\n*   Locatelli: Concertos for Violin, Strings and Continuo, Vol. 3\\n*   Respighi:Pines of Rome\\n*   Schubert: The Late String Quartets & String Quintet (3 CD's)\\n*   Monteverdi: L'Orfeo\\n*   Mozart: Chamber Music\\n*   Koyaanisqatsi (Soundtrack from the Motion Picture)\", additional_kwargs={}, response_metadata={'prompt_feedback': {'block_reason': 0, 'safety_ratings': []}, 'finish_reason': 'STOP', 'model_name': 'gemini-2.0-flash-001', 'safety_ratings': []}, id='run-476a23ee-6a3c-4c4d-a77f-40e437ce0ce6-0', usage_metadata={'input_tokens': 3205, 'output_tokens': 3227, 'total_tokens': 6432, 'input_token_details': {'cache_read': 0}})}}\n"
          ]
        }
      ]
    },
    {
      "cell_type": "markdown",
      "source": [
        "## Creating Agent now"
      ],
      "metadata": {
        "id": "qzNzMXYqeYbW"
      }
    },
    {
      "cell_type": "code",
      "source": [
        "#The problem with above approach is that, even if the Question is wrong the Query will get executed and we will get wrong answer but with agents we will solve this problem and many of like this."
      ],
      "metadata": {
        "id": "PZpNjtZDeYDP"
      },
      "execution_count": 281,
      "outputs": []
    },
    {
      "cell_type": "markdown",
      "source": [
        "### Setting up Agent Prompt"
      ],
      "metadata": {
        "id": "MhWyq2cVk0fO"
      }
    },
    {
      "cell_type": "code",
      "source": [
        "#Read the prompt from langchain hub to understand it's working"
      ],
      "metadata": {
        "id": "9bnLhY-njoR9"
      },
      "execution_count": 282,
      "outputs": []
    },
    {
      "cell_type": "code",
      "source": [
        "from langchain import hub\n",
        "prompt = hub.pull(\"langchain-ai/sql-agent-system-prompt\")"
      ],
      "metadata": {
        "id": "4LLEtag_fLxC",
        "colab": {
          "base_uri": "https://localhost:8080/"
        },
        "outputId": "ca918f7e-78b3-4333-e1b3-972bc68f379c"
      },
      "execution_count": 283,
      "outputs": [
        {
          "output_type": "stream",
          "name": "stderr",
          "text": [
            "/usr/local/lib/python3.11/dist-packages/langsmith/client.py:280: LangSmithMissingAPIKeyWarning: API key must be provided when using hosted LangSmith API\n",
            "  warnings.warn(\n"
          ]
        }
      ]
    },
    {
      "cell_type": "code",
      "source": [
        "prompt.messages[0].pretty_print()"
      ],
      "metadata": {
        "id": "6eH0xfiRfjUP",
        "colab": {
          "base_uri": "https://localhost:8080/"
        },
        "outputId": "9e4a8a73-fe22-4563-c639-0aa8be9faffc"
      },
      "execution_count": 284,
      "outputs": [
        {
          "output_type": "stream",
          "name": "stdout",
          "text": [
            "================================\u001b[1m System Message \u001b[0m================================\n",
            "\n",
            "You are an agent designed to interact with a SQL database.\n",
            "Given an input question, create a syntactically correct \u001b[33;1m\u001b[1;3m{dialect}\u001b[0m query to run, then look at the results of the query and return the answer.\n",
            "Unless the user specifies a specific number of examples they wish to obtain, always limit your query to at most \u001b[33;1m\u001b[1;3m{top_k}\u001b[0m results.\n",
            "You can order the results by a relevant column to return the most interesting examples in the database.\n",
            "Never query for all the columns from a specific table, only ask for the relevant columns given the question.\n",
            "You have access to tools for interacting with the database.\n",
            "Only use the below tools. Only use the information returned by the below tools to construct your final answer.\n",
            "You MUST double check your query before executing it. If you get an error while executing a query, rewrite the query and try again.\n",
            "\n",
            "DO NOT make any DML statements (INSERT, UPDATE, DELETE, DROP etc.) to the database.\n",
            "\n",
            "To start you should ALWAYS look at the tables in the database to see what you can query.\n",
            "Do NOT skip this step.\n",
            "Then you should query the schema of the most relevant tables.\n"
          ]
        }
      ]
    },
    {
      "cell_type": "code",
      "source": [
        "system_prompt = prompt.invoke({'dialect':db.dialect, 'top_k':5})"
      ],
      "metadata": {
        "id": "bLom-nmzfkJ6"
      },
      "execution_count": 285,
      "outputs": []
    },
    {
      "cell_type": "code",
      "source": [
        "from langchain_community.agent_toolkits import SQLDatabaseToolkit\n",
        "\n",
        "toolkit = SQLDatabaseToolkit(db=db, llm=llm)"
      ],
      "metadata": {
        "id": "5PBpzeaRAar8"
      },
      "execution_count": 286,
      "outputs": []
    },
    {
      "cell_type": "code",
      "source": [
        "tools = toolkit.get_tools()\n",
        "tools"
      ],
      "metadata": {
        "colab": {
          "base_uri": "https://localhost:8080/"
        },
        "id": "DT4Wj26wVdwT",
        "outputId": "5fe0cfc2-3e2d-412f-df6c-781eaca664e7"
      },
      "execution_count": 287,
      "outputs": [
        {
          "output_type": "execute_result",
          "data": {
            "text/plain": [
              "[QuerySQLDatabaseTool(description=\"Input to this tool is a detailed and correct SQL query, output is a result from the database. If the query is not correct, an error message will be returned. If an error is returned, rewrite the query, check the query, and try again. If you encounter an issue with Unknown column 'xxxx' in 'field list', use sql_db_schema to query the correct table fields.\", db=<langchain_community.utilities.sql_database.SQLDatabase object at 0x7d8efd7d57d0>),\n",
              " InfoSQLDatabaseTool(description='Input to this tool is a comma-separated list of tables, output is the schema and sample rows for those tables. Be sure that the tables actually exist by calling sql_db_list_tables first! Example Input: table1, table2, table3', db=<langchain_community.utilities.sql_database.SQLDatabase object at 0x7d8efd7d57d0>),\n",
              " ListSQLDatabaseTool(db=<langchain_community.utilities.sql_database.SQLDatabase object at 0x7d8efd7d57d0>),\n",
              " QuerySQLCheckerTool(description='Use this tool to double check if your query is correct before executing it. Always use this tool before executing a query with sql_db_query!', db=<langchain_community.utilities.sql_database.SQLDatabase object at 0x7d8efd7d57d0>, llm=ChatGoogleGenerativeAI(model='models/gemini-2.0-flash-001', google_api_key=SecretStr('**********'), temperature=0.0, max_retries=2, client=<google.ai.generativelanguage_v1beta.services.generative_service.client.GenerativeServiceClient object at 0x7d8efd7abad0>, default_metadata=()), llm_chain=LLMChain(verbose=False, prompt=PromptTemplate(input_variables=['dialect', 'query'], input_types={}, partial_variables={}, template='\\n{query}\\nDouble check the {dialect} query above for common mistakes, including:\\n- Using NOT IN with NULL values\\n- Using UNION when UNION ALL should have been used\\n- Using BETWEEN for exclusive ranges\\n- Data type mismatch in predicates\\n- Properly quoting identifiers\\n- Using the correct number of arguments for functions\\n- Casting to the correct data type\\n- Using the proper columns for joins\\n\\nIf there are any of the above mistakes, rewrite the query. If there are no mistakes, just reproduce the original query.\\n\\nOutput the final SQL query only.\\n\\nSQL Query: '), llm=ChatGoogleGenerativeAI(model='models/gemini-2.0-flash-001', google_api_key=SecretStr('**********'), temperature=0.0, max_retries=2, client=<google.ai.generativelanguage_v1beta.services.generative_service.client.GenerativeServiceClient object at 0x7d8efd7abad0>, default_metadata=()), output_parser=StrOutputParser(), llm_kwargs={}))]"
            ]
          },
          "metadata": {},
          "execution_count": 287
        }
      ]
    },
    {
      "cell_type": "code",
      "source": [
        "tools[0].invoke('Select * from album Limit 3')"
      ],
      "metadata": {
        "colab": {
          "base_uri": "https://localhost:8080/",
          "height": 35
        },
        "id": "YqmEn1rWWgZL",
        "outputId": "3bdea383-bb5c-44a3-96aa-5ac81803f31a"
      },
      "execution_count": 288,
      "outputs": [
        {
          "output_type": "execute_result",
          "data": {
            "text/plain": [
              "\"[(1, 'For Those About To Rock We Salute You', 1), (2, 'Balls to the Wall', 2), (3, 'Restless and Wild', 2)]\""
            ],
            "application/vnd.google.colaboratory.intrinsic+json": {
              "type": "string"
            }
          },
          "metadata": {},
          "execution_count": 288
        }
      ]
    },
    {
      "cell_type": "markdown",
      "source": [
        "###Agent getting ready!"
      ],
      "metadata": {
        "id": "el-8vW0grsH2"
      }
    },
    {
      "cell_type": "code",
      "source": [
        "from langgraph.prebuilt import create_react_agent\n",
        "from langchain_core.messages import HumanMessage"
      ],
      "metadata": {
        "id": "EFIe3pr-rqkT"
      },
      "execution_count": 289,
      "outputs": []
    },
    {
      "cell_type": "code",
      "source": [
        "#we need to format the prompt as the prompt.invoke have changed the format and was causing issues.\n",
        "system_prompt = prompt.format(dialect = db.dialect, top_k = 5)"
      ],
      "metadata": {
        "id": "669uyRKtuZJ_"
      },
      "execution_count": 290,
      "outputs": []
    },
    {
      "cell_type": "code",
      "source": [
        "system_prompt"
      ],
      "metadata": {
        "colab": {
          "base_uri": "https://localhost:8080/",
          "height": 178
        },
        "id": "Gwnn9PHP7EhI",
        "outputId": "6001a6e7-69f1-41fd-d67b-16de1a507b65"
      },
      "execution_count": 291,
      "outputs": [
        {
          "output_type": "execute_result",
          "data": {
            "text/plain": [
              "'System: You are an agent designed to interact with a SQL database.\\nGiven an input question, create a syntactically correct sqlite query to run, then look at the results of the query and return the answer.\\nUnless the user specifies a specific number of examples they wish to obtain, always limit your query to at most 5 results.\\nYou can order the results by a relevant column to return the most interesting examples in the database.\\nNever query for all the columns from a specific table, only ask for the relevant columns given the question.\\nYou have access to tools for interacting with the database.\\nOnly use the below tools. Only use the information returned by the below tools to construct your final answer.\\nYou MUST double check your query before executing it. If you get an error while executing a query, rewrite the query and try again.\\n\\nDO NOT make any DML statements (INSERT, UPDATE, DELETE, DROP etc.) to the database.\\n\\nTo start you should ALWAYS look at the tables in the database to see what you can query.\\nDo NOT skip this step.\\nThen you should query the schema of the most relevant tables.'"
            ],
            "application/vnd.google.colaboratory.intrinsic+json": {
              "type": "string"
            }
          },
          "metadata": {},
          "execution_count": 291
        }
      ]
    },
    {
      "cell_type": "code",
      "source": [
        "prompt"
      ],
      "metadata": {
        "colab": {
          "base_uri": "https://localhost:8080/"
        },
        "id": "S2rnfojb7His",
        "outputId": "8855e01f-cc08-4b88-a8b2-94992bad333c"
      },
      "execution_count": 292,
      "outputs": [
        {
          "output_type": "execute_result",
          "data": {
            "text/plain": [
              "ChatPromptTemplate(input_variables=['dialect', 'top_k'], input_types={}, partial_variables={}, metadata={'lc_hub_owner': 'langchain-ai', 'lc_hub_repo': 'sql-agent-system-prompt', 'lc_hub_commit_hash': '31156d5fe3945188ee172151b086712d22b8c70f8f1c0505f5457594424ed352'}, messages=[SystemMessagePromptTemplate(prompt=PromptTemplate(input_variables=['dialect', 'top_k'], input_types={}, partial_variables={}, template='You are an agent designed to interact with a SQL database.\\nGiven an input question, create a syntactically correct {dialect} query to run, then look at the results of the query and return the answer.\\nUnless the user specifies a specific number of examples they wish to obtain, always limit your query to at most {top_k} results.\\nYou can order the results by a relevant column to return the most interesting examples in the database.\\nNever query for all the columns from a specific table, only ask for the relevant columns given the question.\\nYou have access to tools for interacting with the database.\\nOnly use the below tools. Only use the information returned by the below tools to construct your final answer.\\nYou MUST double check your query before executing it. If you get an error while executing a query, rewrite the query and try again.\\n\\nDO NOT make any DML statements (INSERT, UPDATE, DELETE, DROP etc.) to the database.\\n\\nTo start you should ALWAYS look at the tables in the database to see what you can query.\\nDo NOT skip this step.\\nThen you should query the schema of the most relevant tables.'), additional_kwargs={})])"
            ]
          },
          "metadata": {},
          "execution_count": 292
        }
      ]
    },
    {
      "cell_type": "code",
      "source": [
        "agent_executer = create_react_agent(\n",
        "    llm, tools, state_modifier = system_prompt)\n",
        "\n",
        "display(Image(agent_executer.get_graph().draw_mermaid_png()))"
      ],
      "metadata": {
        "colab": {
          "base_uri": "https://localhost:8080/",
          "height": 266
        },
        "id": "Z5PupcZNhO6d",
        "outputId": "11dcc7f0-20d0-4cbf-80e8-a52fc41ac80a"
      },
      "execution_count": 293,
      "outputs": [
        {
          "output_type": "display_data",
          "data": {
            "image/png": "[encoded data removed]",
            "text/plain": [
              "<IPython.core.display.Image object>"
            ]
          },
          "metadata": {}
        }
      ]
    },
    {
      "cell_type": "code",
      "source": [
        "from langgraph.prebuilt import create_react_agent\n",
        "from langchain_core.messages import HumanMessage, SystemMessage\n",
        "\n",
        "# Assuming you've already defined 'db', 'llm', and 'tools'\n",
        "system_content = prompt.format(dialect=db.dialect, top_k=5)\n",
        "\n",
        "agent_executor = create_react_agent(\n",
        "    llm,\n",
        "    tools\n",
        ")\n",
        "\n",
        "# Modify the initial state to add system message\n",
        "def add_system_message(state):\n",
        "    messages = state.get(\"messages\", [])\n",
        "    if not any(isinstance(m, SystemMessage) for m in messages):\n",
        "        messages.insert(0, SystemMessage(content=system_content))\n",
        "    state[\"messages\"] = messages\n",
        "    return state\n",
        "\n",
        "agent_executor.state_modifier = add_system_message\n",
        "\n",
        "# Function to get only the final AI response\n",
        "def get_final_ai_response(result):\n",
        "    \"\"\"Extract only the final AI message from the result.\"\"\"\n",
        "    # Get the messages list from the result\n",
        "    messages = result.get(\"messages\", [])\n",
        "\n",
        "    # Find the last AI message (typically the last message in the list)\n",
        "    for message in reversed(messages):\n",
        "        if message.type == \"ai\":\n",
        "            return message.content\n",
        "\n",
        "    return \"No AI response found.\""
      ],
      "metadata": {
        "id": "Wdo_B0nmAyKf"
      },
      "execution_count": 294,
      "outputs": []
    },
    {
      "cell_type": "code",
      "source": [
        "def run_the_agent (question:str):\n",
        "  result = agent_executor.invoke({\"messages\": [HumanMessage(content=question)]})\n",
        "  final_answer = get_final_ai_response(result)\n",
        "  return final_answer"
      ],
      "metadata": {
        "id": "3vkpw_aa05M8"
      },
      "execution_count": 295,
      "outputs": []
    },
    {
      "cell_type": "code",
      "source": [
        "run_the_agent(question = input(\"Enter your question : \"))"
      ],
      "metadata": {
        "colab": {
          "base_uri": "https://localhost:8080/",
          "height": 71
        },
        "id": "Efl81Fp-BrYK",
        "outputId": "25d3c335-1cdb-419c-f9da-6a531e16c195"
      },
      "execution_count": 296,
      "outputs": [
        {
          "name": "stdout",
          "output_type": "stream",
          "text": [
            "Enter your question : Name all the employees\n"
          ]
        },
        {
          "output_type": "execute_result",
          "data": {
            "text/plain": [
              "'Andrew Adams, Nancy Edwards, Jane Peacock, Margaret Park, Steve Johnson, Michael Mitchell, Robert King, and Laura Callahan.'"
            ],
            "application/vnd.google.colaboratory.intrinsic+json": {
              "type": "string"
            }
          },
          "metadata": {},
          "execution_count": 296
        }
      ]
    },
    {
      "cell_type": "code",
      "source": [
        "#If you want to see all the steps\n",
        "for steps in agent_executor.stream({\"messages\": [HumanMessage(content=question)]}, stream_mode=\"updates\"):\n",
        "  print(steps)"
      ],
      "metadata": {
        "id": "ffHG00l_D12q",
        "colab": {
          "base_uri": "https://localhost:8080/"
        },
        "outputId": "2b1bda02-52b8-4690-b74c-8b8e559bae6e"
      },
      "execution_count": 299,
      "outputs": [
        {
          "output_type": "stream",
          "name": "stdout",
          "text": [
            "{'agent': {'messages': [AIMessage(content='', additional_kwargs={'function_call': {'name': 'sql_db_query', 'arguments': '{\"query\": \"SELECT count(*) FROM employees\"}'}}, response_metadata={'prompt_feedback': {'block_reason': 0, 'safety_ratings': []}, 'finish_reason': 'STOP', 'model_name': 'gemini-2.0-flash-001', 'safety_ratings': []}, id='run-1d98a5e6-40a9-4cb9-86e4-e70b575d51ff-0', tool_calls=[{'name': 'sql_db_query', 'args': {'query': 'SELECT count(*) FROM employees'}, 'id': '3971ce13-65ae-4261-9410-e785c5d86ff3', 'type': 'tool_call'}], usage_metadata={'input_tokens': 275, 'output_tokens': 11, 'total_tokens': 286, 'input_token_details': {'cache_read': 0}})]}}\n",
            "{'tools': {'messages': [ToolMessage(content='Error: (sqlite3.OperationalError) no such table: employees\\n[SQL: SELECT count(*) FROM employees]\\n(Background on this error at: https://sqlalche.me/e/20/e3q8)', name='sql_db_query', id='8242a6bb-4ae1-476d-8a61-bb82eb8f68e3', tool_call_id='3971ce13-65ae-4261-9410-e785c5d86ff3')]}}\n",
            "{'agent': {'messages': [AIMessage(content=\"I encountered an error because the table 'employees' does not exist. I need to find the correct table name for employee information.\", additional_kwargs={'function_call': {'name': 'sql_db_list_tables', 'arguments': '{}'}}, response_metadata={'prompt_feedback': {'block_reason': 0, 'safety_ratings': []}, 'finish_reason': 'STOP', 'model_name': 'gemini-2.0-flash-001', 'safety_ratings': []}, id='run-206d036c-0adf-44be-a9e7-2164f4d79722-0', tool_calls=[{'name': 'sql_db_list_tables', 'args': {}, 'id': 'df529d8e-a6a0-493c-8369-d4b108cacf74', 'type': 'tool_call'}], usage_metadata={'input_tokens': 342, 'output_tokens': 34, 'total_tokens': 376, 'input_token_details': {'cache_read': 0}})]}}\n",
            "{'tools': {'messages': [ToolMessage(content='Album, Artist, Customer, Employee, Genre, Invoice, InvoiceLine, MediaType, Playlist, PlaylistTrack, Track', name='sql_db_list_tables', id='09c6fa28-9443-4575-8fa8-2479ab464115', tool_call_id='df529d8e-a6a0-493c-8369-d4b108cacf74')]}}\n",
            "{'agent': {'messages': [AIMessage(content=\"Okay, the table 'employees' does not exist. Did you mean to query the 'Employee' table instead?\", additional_kwargs={'function_call': {'name': 'sql_db_query', 'arguments': '{\"query\": \"SELECT count(*) FROM Employee\"}'}}, response_metadata={'prompt_feedback': {'block_reason': 0, 'safety_ratings': []}, 'finish_reason': 'STOP', 'model_name': 'gemini-2.0-flash-001', 'safety_ratings': []}, id='run-20a82391-f79c-497a-81a8-c72398240056-0', tool_calls=[{'name': 'sql_db_query', 'args': {'query': 'SELECT count(*) FROM Employee'}, 'id': 'ba6a2cd3-9410-4a94-9fce-5ab3aec22f47', 'type': 'tool_call'}], usage_metadata={'input_tokens': 380, 'output_tokens': 35, 'total_tokens': 415, 'input_token_details': {'cache_read': 0}})]}}\n",
            "{'tools': {'messages': [ToolMessage(content='[(8,)]', name='sql_db_query', id='10f082bf-3fd6-41e3-92d6-8c24612448a1', tool_call_id='ba6a2cd3-9410-4a94-9fce-5ab3aec22f47')]}}\n",
            "{'agent': {'messages': [AIMessage(content='There are 8 employees.', additional_kwargs={}, response_metadata={'prompt_feedback': {'block_reason': 0, 'safety_ratings': []}, 'finish_reason': 'STOP', 'model_name': 'gemini-2.0-flash-001', 'safety_ratings': []}, id='run-f81ff427-5eb5-4b14-98ea-3980e2f28c9f-0', usage_metadata={'input_tokens': 401, 'output_tokens': 7, 'total_tokens': 408, 'input_token_details': {'cache_read': 0}})]}}\n"
          ]
        }
      ]
    }
  ],
  "metadata": {
    "colab": {
      "toc_visible": true,
      "provenance": [],
      "include_colab_link": true
    },
    "kernelspec": {
      "display_name": "Python 3",
      "name": "python3"
    }
  },
  "nbformat": 4,
  "nbformat_minor": 0
}